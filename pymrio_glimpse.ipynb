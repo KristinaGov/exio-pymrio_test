{
 "cells": [
  {
   "cell_type": "code",
   "execution_count": 1,
   "metadata": {},
   "outputs": [],
   "source": [
    "import pymrio\n",
    "import matplotlib as plt\n",
    "import pandas as pd\n",
    "import numpy as np\n",
    "from os import chdir, getcwd"
   ]
  },
  {
   "cell_type": "markdown",
   "metadata": {},
   "source": [
    "Choose current directory"
   ]
  },
  {
   "cell_type": "code",
   "execution_count": 2,
   "metadata": {},
   "outputs": [],
   "source": [
    "wd=getcwd()\n",
    "chdir(wd)"
   ]
  },
  {
   "cell_type": "markdown",
   "metadata": {},
   "source": [
    "### Pymrio test example from the guide"
   ]
  },
  {
   "cell_type": "code",
   "execution_count": 3,
   "metadata": {},
   "outputs": [],
   "source": [
    "test_mrio = pymrio.load_test()"
   ]
  },
  {
   "cell_type": "code",
   "execution_count": 4,
   "metadata": {},
   "outputs": [],
   "source": [
    "#print(test_mrio.get_sectors())\n",
    "#print(test_mrio.get_regions())"
   ]
  },
  {
   "cell_type": "markdown",
   "metadata": {},
   "source": [
    "The top level level function calc_all checks the IO System and its extensions for missing parts and calculate these. This function calls the speciﬁc calculation method for the core system and for the extensions."
   ]
  },
  {
   "cell_type": "code",
   "execution_count": 5,
   "metadata": {},
   "outputs": [
    {
     "data": {
      "text/plain": [
       "<pymrio.core.mriosystem.IOSystem at 0x228f1eb5a48>"
      ]
     },
     "execution_count": 5,
     "metadata": {},
     "output_type": "execute_result"
    }
   ],
   "source": [
    "test_mrio.calc_all()"
   ]
  },
  {
   "cell_type": "markdown",
   "metadata": {},
   "source": [
    "**A** - inter-industry coefficients (direct requirements matrix)"
   ]
  },
  {
   "cell_type": "code",
   "execution_count": null,
   "metadata": {},
   "outputs": [],
   "source": [
    "test_mrio.A.head(1)"
   ]
  },
  {
   "cell_type": "markdown",
   "metadata": {},
   "source": [
    "**D_cba** - Consumption based accounts  \n",
    "**D_exp** - export accounts   \n",
    "**D_imp** - import accounts  "
   ]
  },
  {
   "cell_type": "code",
   "execution_count": null,
   "metadata": {},
   "outputs": [],
   "source": [
    "est_mrio.emissions.D_cba.head()\n",
    "test_mrio.emissions.D_exp.head()\n",
    "test_mrio.emissions.D_imp.head()"
   ]
  },
  {
   "cell_type": "markdown",
   "metadata": {},
   "source": [
    "**F** - factor production"
   ]
  },
  {
   "cell_type": "code",
   "execution_count": null,
   "metadata": {},
   "outputs": [],
   "source": [
    "test_mrio.emissions.F.head()"
   ]
  },
  {
   "cell_type": "markdown",
   "metadata": {},
   "source": [
    "**Y** - final demand matrix"
   ]
  },
  {
   "cell_type": "code",
   "execution_count": null,
   "metadata": {},
   "outputs": [],
   "source": [
    "test_mrio.Y.head()"
   ]
  },
  {
   "cell_type": "markdown",
   "metadata": {},
   "source": [
    "**x** - total output, deﬁned as column vector"
   ]
  },
  {
   "cell_type": "code",
   "execution_count": null,
   "metadata": {},
   "outputs": [],
   "source": [
    "test_mrio.x.head()"
   ]
  },
  {
   "cell_type": "markdown",
   "metadata": {},
   "source": [
    "**Z** - transactions matrix, inter industry ﬂows"
   ]
  },
  {
   "cell_type": "code",
   "execution_count": null,
   "metadata": {},
   "outputs": [],
   "source": [
    "test_mrio.Z.head()"
   ]
  },
  {
   "cell_type": "markdown",
   "metadata": {},
   "source": [
    "## TEST PYMRIO for PAPER"
   ]
  },
  {
   "cell_type": "markdown",
   "metadata": {},
   "source": [
    "Show the folder. The pymrio parser works with the compressed (zip) ﬁles as well as the unpacked ﬁles.\n",
    "\n",
    "MrIOT IxI fpa coefﬁcient version2 2 2 for the industry by industry (ixi) MRIO system. E.g. -  **'Cultivation of paddy rice'**\n",
    "\n",
    "MrIOT PxP ita coefﬁcient version2 2 2 for the product by product (pxp) MRIO system. E.g. -  **'Paddy rice'**"
   ]
  },
  {
   "cell_type": "markdown",
   "metadata": {},
   "source": [
    "First parse the downloaded exiobase (zip) and save it to the folder."
   ]
  },
  {
   "cell_type": "code",
   "execution_count": 4,
   "metadata": {},
   "outputs": [
    {
     "data": {
      "text/plain": [
       "<pymrio.core.mriosystem.IOSystem at 0x186f37f3648>"
      ]
     },
     "execution_count": 4,
     "metadata": {},
     "output_type": "execute_result"
    }
   ],
   "source": [
    "#exio3 = pymrio.parse_exiobase3(path='./exio3/exiobase3.4_iot_2011_pxp.zip')\n",
    "#exio3.calc_all()\n",
    "#exio3.save_all(path='./exio_org')\n",
    "# DON'T RUN THIS IF YOU HAVE ALREADY DONE IT ONCE!"
   ]
  },
  {
   "cell_type": "markdown",
   "metadata": {},
   "source": [
    "Load the parsed exiobase"
   ]
  },
  {
   "cell_type": "code",
   "execution_count": 2,
   "metadata": {},
   "outputs": [],
   "source": [
    "io_new_safe = pymrio.load_all(path='./exio_org')\n",
    "io_new = io_new_safe.copy()"
   ]
  },
  {
   "cell_type": "markdown",
   "metadata": {},
   "source": [
    "#### Study initial tables before calculating all\n",
    "**A** - inter-industry coefficients 𝐴 = 𝑍 𝑥^(−1)  \n",
    "**Y** - final demand  \n",
    "**unit** - units"
   ]
  },
  {
   "cell_type": "code",
   "execution_count": 6,
   "metadata": {},
   "outputs": [],
   "source": [
    "#io_new_safe.A.head()\n",
    "#io_new_safe.Y.head()\n",
    "#io_new_safe.unit.head()"
   ]
  },
  {
   "cell_type": "markdown",
   "metadata": {},
   "source": [
    "#### Study initial tables indexes and metadata"
   ]
  },
  {
   "cell_type": "code",
   "execution_count": 7,
   "metadata": {},
   "outputs": [
    {
     "data": {
      "text/plain": [
       "Index(['AT', 'BE', 'BG', 'CY', 'CZ', 'DE', 'DK', 'EE', 'ES', 'FI', 'FR', 'GR',\n",
       "       'HR', 'HU', 'IE', 'IT', 'LT', 'LU', 'LV', 'MT', 'NL', 'PL', 'PT', 'RO',\n",
       "       'SE', 'SI', 'SK', 'GB', 'US', 'JP', 'CN', 'CA', 'KR', 'BR', 'IN', 'MX',\n",
       "       'RU', 'AU', 'CH', 'TR', 'TW', 'NO', 'ID', 'ZA', 'WA', 'WL', 'WE', 'WF',\n",
       "       'WM'],\n",
       "      dtype='object', name='region')"
      ]
     },
     "execution_count": 7,
     "metadata": {},
     "output_type": "execute_result"
    }
   ],
   "source": [
    "#io_new_safe.meta\n",
    "#io_new_safe.get_sectors()\n",
    "io_new_safe.get_regions()\n",
    "#io_new_safe.get_index()"
   ]
  },
  {
   "cell_type": "markdown",
   "metadata": {},
   "source": [
    "#### See extensions - satellites"
   ]
  },
  {
   "cell_type": "code",
   "execution_count": 8,
   "metadata": {},
   "outputs": [
    {
     "data": {
      "text/plain": [
       "['satellite']"
      ]
     },
     "execution_count": 8,
     "metadata": {},
     "output_type": "execute_result"
    }
   ],
   "source": [
    "list(io_new_safe.get_extensions())"
   ]
  },
  {
   "cell_type": "markdown",
   "metadata": {},
   "source": [
    "#### Study initial satellite tables before calculating all\n",
    "F - final resource transfer coefficient matrix  \n",
    "F_hh - ???  \n",
    "unit - units  "
   ]
  },
  {
   "cell_type": "code",
   "execution_count": 40,
   "metadata": {},
   "outputs": [],
   "source": [
    "#io_new_safe.satellite.F.head()\n",
    "#io_new_safe.satellite.F_hh.head()\n",
    "#io_new_safe.satellite.unit.head(1)"
   ]
  },
  {
   "cell_type": "markdown",
   "metadata": {},
   "source": [
    "#### Study initial satellite tables indexes"
   ]
  },
  {
   "cell_type": "code",
   "execution_count": 5,
   "metadata": {},
   "outputs": [
    {
     "data": {
      "text/plain": [
       "Index(['AT', 'BE', 'BG', 'CY', 'CZ', 'DE', 'DK', 'EE', 'ES', 'FI', 'FR', 'GR',\n",
       "       'HR', 'HU', 'IE', 'IT', 'LT', 'LU', 'LV', 'MT', 'NL', 'PL', 'PT', 'RO',\n",
       "       'SE', 'SI', 'SK', 'GB', 'US', 'JP', 'CN', 'CA', 'KR', 'BR', 'IN', 'MX',\n",
       "       'RU', 'AU', 'CH', 'TR', 'TW', 'NO', 'ID', 'ZA', 'WA', 'WL', 'WE', 'WF',\n",
       "       'WM'],\n",
       "      dtype='object', name='region')"
      ]
     },
     "execution_count": 5,
     "metadata": {},
     "output_type": "execute_result"
    }
   ],
   "source": [
    "#io_new_safe.satellite.get_sectors()\n",
    "#io_new_safe.satellite.get_regions()\n",
    "#io_new_safe.satellite.get_index()\n",
    "#io_new_safe.satellite.get_rows()"
   ]
  },
  {
   "cell_type": "markdown",
   "metadata": {},
   "source": [
    "#### See all coal types in the data index\n",
    "level 1 - sectors, level 0 - regions  \n",
    "filter_c - filters for keawords in the index to spot all items related to chosen coal types."
   ]
  },
  {
   "cell_type": "code",
   "execution_count": 22,
   "metadata": {},
   "outputs": [],
   "source": [
    "filter_c=io_new_safe.Y.index.get_level_values(1).str.contains('coal|anthracite', case=False, regex=True)"
   ]
  },
  {
   "cell_type": "code",
   "execution_count": 23,
   "metadata": {},
   "outputs": [
    {
     "data": {
      "text/plain": [
       "Index(['Anthracite', 'Coking Coal', 'Other Bituminous Coal',\n",
       "       'Sub-Bituminous Coal', 'Lignite/Brown Coal', 'Coal Tar', 'Charcoal',\n",
       "       'Electricity by coal'],\n",
       "      dtype='object', name='sector')"
      ]
     },
     "execution_count": 23,
     "metadata": {},
     "output_type": "execute_result"
    }
   ],
   "source": [
    "coal_types=io_new_safe.Y.index.get_level_values(1)[filter_c].drop_duplicates()\n",
    "coal_types"
   ]
  },
  {
   "cell_type": "code",
   "execution_count": 24,
   "metadata": {},
   "outputs": [],
   "source": [
    "#io_new_safe.Y.loc[[('AU','Anthracite')]]"
   ]
  },
  {
   "cell_type": "markdown",
   "metadata": {},
   "source": [
    "#### Following lines are to study the structure of the MRIO tables  \n",
    "*after they are calculated*"
   ]
  },
  {
   "cell_type": "markdown",
   "metadata": {},
   "source": [
    "To calculate all tables start with:"
   ]
  },
  {
   "cell_type": "code",
   "execution_count": 25,
   "metadata": {},
   "outputs": [
    {
     "data": {
      "text/plain": [
       "<pymrio.core.mriosystem.IOSystem at 0x186f3944848>"
      ]
     },
     "execution_count": 25,
     "metadata": {},
     "output_type": "execute_result"
    }
   ],
   "source": [
    "io_new_safe.calc_all()"
   ]
  },
  {
   "cell_type": "markdown",
   "metadata": {},
   "source": [
    "#### The following tables occur as soon as calculation of the MRIO is done.\n",
    "\n",
    "**x** - total output, deﬁned as column vector  𝑥 = 𝑍𝑒 + 𝑌𝑒  \n",
    "**L** - total requirement matrix (Leontief matrix)  \n",
    "**Z** - transactions matrix, inter industry ﬂows"
   ]
  },
  {
   "cell_type": "code",
   "execution_count": 43,
   "metadata": {},
   "outputs": [],
   "source": [
    "#io_new_safe.x.head(1)\n",
    "#io_new_safe.L.head(1)\n",
    "#io_new_safe.Z.head(1)"
   ]
  },
  {
   "cell_type": "markdown",
   "metadata": {},
   "source": [
    "#### The following *satelite* tables occur as soon as calculation of the MRIO is done.\n",
    "\n",
    "**D_cba** - total requirements (footprints in case of environmental requirements) for any given ﬁnal demand vector 𝑦  \n",
    "**D_exp** - the factors of production occurring domestically to satisfy ﬁnal demand in other countries  \n",
    "**D_imp** - factor of production occurring abroad (embodied in imports).      *Setting the domestically satisﬁed ﬁnal demand 𝑌𝑖 ,𝑖 to zero (𝑌𝑡 = 𝑌 − 𝑌𝑖 ,𝑗 | 𝑖 = 𝑗) allow to calculate the factor of production occurring abroad (embodied in imports)*  \n",
    "**D_pba**  - production based accounts (direct territorial requirements) per country  \n",
    "𝐷𝑖 𝑐𝑏𝑎 = 𝐷𝑖 𝑝𝑏𝑎 + 𝐷𝑖 𝑖𝑚𝑝 − 𝐷𝑖 𝑒𝑥𝑝\n",
    "\n",
    "**..._reg** - add to the name to see matrixes per region and not industry"
   ]
  },
  {
   "cell_type": "code",
   "execution_count": 44,
   "metadata": {},
   "outputs": [],
   "source": [
    "#io_new_safe.satellite.D_cba.head()\n",
    "#io_new_safe.satellite.D_exp.head()\n",
    "#io_new_safe.satellite.D_imp.head()\n",
    "#io_new_safe.satellite.D_pba.head()\n",
    "#io_new_safe.satellite.D_pba_reg.head(1)\n",
    "#io_new_safe.satellite.D_cba_reg.head()\n",
    "#io_new_safe.satellite.D_imp_reg.head()\n",
    "#io_new_safe.satellite.D_exp_reg.head()"
   ]
  },
  {
   "cell_type": "markdown",
   "metadata": {},
   "source": [
    "Check what indexes in satellite pba production based accounts related to coal or other search items:  \n",
    "filter_1 - fiters for accounts directly connected to coal production  \n",
    "filter_2 - filters for units of the selected accounts"
   ]
  },
  {
   "cell_type": "code",
   "execution_count": 62,
   "metadata": {},
   "outputs": [
    {
     "name": "stderr",
     "output_type": "stream",
     "text": [
      "C:\\Users\\TUBAF\\Anaconda3\\lib\\site-packages\\pandas\\core\\strings.py:2001: UserWarning: This pattern has match groups. To actually get the groups, use str.extract.\n",
      "  return func(self, *args, **kwargs)\n"
     ]
    },
    {
     "data": {
      "text/html": [
       "<div>\n",
       "<style scoped>\n",
       "    .dataframe tbody tr th:only-of-type {\n",
       "        vertical-align: middle;\n",
       "    }\n",
       "\n",
       "    .dataframe tbody tr th {\n",
       "        vertical-align: top;\n",
       "    }\n",
       "\n",
       "    .dataframe thead th {\n",
       "        text-align: right;\n",
       "    }\n",
       "</style>\n",
       "<table border=\"1\" class=\"dataframe\">\n",
       "  <thead>\n",
       "    <tr style=\"text-align: right;\">\n",
       "      <th></th>\n",
       "      <th>AU</th>\n",
       "    </tr>\n",
       "  </thead>\n",
       "  <tbody>\n",
       "    <tr>\n",
       "      <th>Employment: Low-skilled male</th>\n",
       "      <td>5.555495e+02</td>\n",
       "    </tr>\n",
       "    <tr>\n",
       "      <th>Employment: Low-skilled female</th>\n",
       "      <td>3.364081e+02</td>\n",
       "    </tr>\n",
       "    <tr>\n",
       "      <th>Employment: Medium-skilled male</th>\n",
       "      <td>3.132569e+03</td>\n",
       "    </tr>\n",
       "    <tr>\n",
       "      <th>Employment: Medium-skilled female</th>\n",
       "      <td>2.479826e+03</td>\n",
       "    </tr>\n",
       "    <tr>\n",
       "      <th>Employment: High-skilled male</th>\n",
       "      <td>2.396169e+03</td>\n",
       "    </tr>\n",
       "    <tr>\n",
       "      <th>Employment: High-skilled female</th>\n",
       "      <td>2.494078e+03</td>\n",
       "    </tr>\n",
       "    <tr>\n",
       "      <th>Employment hours: Low-skilled male</th>\n",
       "      <td>1.022636e+03</td>\n",
       "    </tr>\n",
       "    <tr>\n",
       "      <th>Employment hours: Low-skilled female</th>\n",
       "      <td>5.755191e+02</td>\n",
       "    </tr>\n",
       "    <tr>\n",
       "      <th>Employment hours: Medium-skilled male</th>\n",
       "      <td>5.813131e+03</td>\n",
       "    </tr>\n",
       "    <tr>\n",
       "      <th>Employment hours: Medium-skilled female</th>\n",
       "      <td>4.169965e+03</td>\n",
       "    </tr>\n",
       "    <tr>\n",
       "      <th>Employment hours: High-skilled male</th>\n",
       "      <td>4.261840e+03</td>\n",
       "    </tr>\n",
       "    <tr>\n",
       "      <th>Employment hours: High-skilled female</th>\n",
       "      <td>4.214828e+03</td>\n",
       "    </tr>\n",
       "    <tr>\n",
       "      <th>Employment: Vulnerable employment</th>\n",
       "      <td>1.322300e+03</td>\n",
       "    </tr>\n",
       "    <tr>\n",
       "      <th>Employment hours: Vulnerable employment</th>\n",
       "      <td>2.423727e+03</td>\n",
       "    </tr>\n",
       "    <tr>\n",
       "      <th>CH4 - non combustion - Mining of bituminous coal - air</th>\n",
       "      <td>1.150362e+09</td>\n",
       "    </tr>\n",
       "    <tr>\n",
       "      <th>CH4 - non combustion - Mining of coking coal - air</th>\n",
       "      <td>1.188367e+09</td>\n",
       "    </tr>\n",
       "    <tr>\n",
       "      <th>CH4 - non combustion - Mining of sub-bituminous coal - air</th>\n",
       "      <td>3.381264e+08</td>\n",
       "    </tr>\n",
       "    <tr>\n",
       "      <th>PM10 - non combustion - Mining of bituminous coal - air</th>\n",
       "      <td>3.905692e+06</td>\n",
       "    </tr>\n",
       "    <tr>\n",
       "      <th>PM10 - non combustion - Mining of coking coal - air</th>\n",
       "      <td>4.034727e+06</td>\n",
       "    </tr>\n",
       "    <tr>\n",
       "      <th>PM10 - non combustion - Mining of sub-bituminous coal - air</th>\n",
       "      <td>1.148002e+06</td>\n",
       "    </tr>\n",
       "    <tr>\n",
       "      <th>PM2.5 - non combustion - Mining of bituminous coal - air</th>\n",
       "      <td>5.325750e+05</td>\n",
       "    </tr>\n",
       "    <tr>\n",
       "      <th>PM2.5 - non combustion - Mining of coking coal - air</th>\n",
       "      <td>5.501700e+05</td>\n",
       "    </tr>\n",
       "    <tr>\n",
       "      <th>PM2.5 - non combustion - Mining of sub-bituminous coal - air</th>\n",
       "      <td>1.565400e+05</td>\n",
       "    </tr>\n",
       "    <tr>\n",
       "      <th>TSP - non combustion - Mining of bituminous coal - air</th>\n",
       "      <td>7.222269e+06</td>\n",
       "    </tr>\n",
       "    <tr>\n",
       "      <th>TSP - non combustion - Mining of coking coal - air</th>\n",
       "      <td>7.460876e+06</td>\n",
       "    </tr>\n",
       "    <tr>\n",
       "      <th>TSP - non combustion - Mining of sub-bituminous coal - air</th>\n",
       "      <td>2.122845e+06</td>\n",
       "    </tr>\n",
       "    <tr>\n",
       "      <th>Infrastructure land</th>\n",
       "      <td>2.252903e+04</td>\n",
       "    </tr>\n",
       "  </tbody>\n",
       "</table>\n",
       "</div>"
      ],
      "text/plain": [
       "                                                              AU\n",
       "Employment: Low-skilled male                        5.555495e+02\n",
       "Employment: Low-skilled female                      3.364081e+02\n",
       "Employment: Medium-skilled male                     3.132569e+03\n",
       "Employment: Medium-skilled female                   2.479826e+03\n",
       "Employment: High-skilled male                       2.396169e+03\n",
       "Employment: High-skilled female                     2.494078e+03\n",
       "Employment hours: Low-skilled male                  1.022636e+03\n",
       "Employment hours: Low-skilled female                5.755191e+02\n",
       "Employment hours: Medium-skilled male               5.813131e+03\n",
       "Employment hours: Medium-skilled female             4.169965e+03\n",
       "Employment hours: High-skilled male                 4.261840e+03\n",
       "Employment hours: High-skilled female               4.214828e+03\n",
       "Employment: Vulnerable employment                   1.322300e+03\n",
       "Employment hours: Vulnerable employment             2.423727e+03\n",
       "CH4 - non combustion - Mining of bituminous coa...  1.150362e+09\n",
       "CH4 - non combustion - Mining of coking coal - air  1.188367e+09\n",
       "CH4 - non combustion - Mining of sub-bituminous...  3.381264e+08\n",
       "PM10 - non combustion - Mining of bituminous co...  3.905692e+06\n",
       "PM10 - non combustion - Mining of coking coal -...  4.034727e+06\n",
       "PM10 - non combustion - Mining of sub-bituminou...  1.148002e+06\n",
       "PM2.5 - non combustion - Mining of bituminous c...  5.325750e+05\n",
       "PM2.5 - non combustion - Mining of coking coal ...  5.501700e+05\n",
       "PM2.5 - non combustion - Mining of sub-bitumino...  1.565400e+05\n",
       "TSP - non combustion - Mining of bituminous coa...  7.222269e+06\n",
       "TSP - non combustion - Mining of coking coal - air  7.460876e+06\n",
       "TSP - non combustion - Mining of sub-bituminous...  2.122845e+06\n",
       "Infrastructure land                                 2.252903e+04"
      ]
     },
     "execution_count": 62,
     "metadata": {},
     "output_type": "execute_result"
    }
   ],
   "source": [
    "filter_1=io_new_safe.satellite.D_pba_reg.index.str.contains(r'(infrastructure|coal|anthracite|employment)([^(Electricity)])', case=False, regex=True)\n",
    "io_new_safe.satellite.D_pba_reg[filter_1][['AU']]"
   ]
  },
  {
   "cell_type": "code",
   "execution_count": 90,
   "metadata": {},
   "outputs": [
    {
     "name": "stderr",
     "output_type": "stream",
     "text": [
      "C:\\Users\\TUBAF\\Anaconda3\\lib\\site-packages\\pandas\\core\\strings.py:2001: UserWarning: This pattern has match groups. To actually get the groups, use str.extract.\n",
      "  return func(self, *args, **kwargs)\n"
     ]
    },
    {
     "data": {
      "text/html": [
       "<div>\n",
       "<style scoped>\n",
       "    .dataframe tbody tr th:only-of-type {\n",
       "        vertical-align: middle;\n",
       "    }\n",
       "\n",
       "    .dataframe tbody tr th {\n",
       "        vertical-align: top;\n",
       "    }\n",
       "\n",
       "    .dataframe thead th {\n",
       "        text-align: right;\n",
       "    }\n",
       "</style>\n",
       "<table border=\"1\" class=\"dataframe\">\n",
       "  <thead>\n",
       "    <tr style=\"text-align: right;\">\n",
       "      <th></th>\n",
       "      <th>AU</th>\n",
       "    </tr>\n",
       "  </thead>\n",
       "  <tbody>\n",
       "    <tr>\n",
       "      <th>CH4 - non combustion - Mining of bituminous coal - air</th>\n",
       "      <td>1.150362e+09</td>\n",
       "    </tr>\n",
       "    <tr>\n",
       "      <th>CH4 - non combustion - Mining of coking coal - air</th>\n",
       "      <td>1.188367e+09</td>\n",
       "    </tr>\n",
       "    <tr>\n",
       "      <th>CH4 - non combustion - Mining of sub-bituminous coal - air</th>\n",
       "      <td>3.381264e+08</td>\n",
       "    </tr>\n",
       "    <tr>\n",
       "      <th>PM10 - non combustion - Mining of bituminous coal - air</th>\n",
       "      <td>3.905692e+06</td>\n",
       "    </tr>\n",
       "    <tr>\n",
       "      <th>PM10 - non combustion - Mining of coking coal - air</th>\n",
       "      <td>4.034727e+06</td>\n",
       "    </tr>\n",
       "    <tr>\n",
       "      <th>...</th>\n",
       "      <td>...</td>\n",
       "    </tr>\n",
       "    <tr>\n",
       "      <th>Water Withdrawal Blue - Electricity - once-through - Electricity by solar thermal</th>\n",
       "      <td>0.000000e+00</td>\n",
       "    </tr>\n",
       "    <tr>\n",
       "      <th>Water Withdrawal Blue - Electricity - once-through - Electricity by tide, wave, ocean</th>\n",
       "      <td>0.000000e+00</td>\n",
       "    </tr>\n",
       "    <tr>\n",
       "      <th>Water Withdrawal Blue - Electricity - once-through - Electricity by Geothermal</th>\n",
       "      <td>0.000000e+00</td>\n",
       "    </tr>\n",
       "    <tr>\n",
       "      <th>Water Withdrawal Blue - Electricity - once-through - Electricity nec</th>\n",
       "      <td>0.000000e+00</td>\n",
       "    </tr>\n",
       "    <tr>\n",
       "      <th>Water Withdrawal Blue - Domestic - domestic Water Withdrawal Blue</th>\n",
       "      <td>3.683140e+03</td>\n",
       "    </tr>\n",
       "  </tbody>\n",
       "</table>\n",
       "<p>212 rows × 1 columns</p>\n",
       "</div>"
      ],
      "text/plain": [
       "                                                              AU\n",
       "CH4 - non combustion - Mining of bituminous coa...  1.150362e+09\n",
       "CH4 - non combustion - Mining of coking coal - air  1.188367e+09\n",
       "CH4 - non combustion - Mining of sub-bituminous...  3.381264e+08\n",
       "PM10 - non combustion - Mining of bituminous co...  3.905692e+06\n",
       "PM10 - non combustion - Mining of coking coal -...  4.034727e+06\n",
       "...                                                          ...\n",
       "Water Withdrawal Blue - Electricity - once-thro...  0.000000e+00\n",
       "Water Withdrawal Blue - Electricity - once-thro...  0.000000e+00\n",
       "Water Withdrawal Blue - Electricity - once-thro...  0.000000e+00\n",
       "Water Withdrawal Blue - Electricity - once-thro...  0.000000e+00\n",
       "Water Withdrawal Blue - Domestic - domestic Wat...  3.683140e+03\n",
       "\n",
       "[212 rows x 1 columns]"
      ]
     },
     "execution_count": 90,
     "metadata": {},
     "output_type": "execute_result"
    }
   ],
   "source": [
    "io_new_safe.satellite.D_pba_reg[io_new_safe.satellite.D_pba_reg.index.str.contains(r'(coal|water|blue)[^(Electricity)]', case=False, regex=True)][['AU']]"
   ]
  },
  {
   "cell_type": "code",
   "execution_count": 239,
   "metadata": {},
   "outputs": [
    {
     "name": "stdout",
     "output_type": "stream",
     "text": [
      "<class 'pandas.core.frame.DataFrame'>\n"
     ]
    }
   ],
   "source": [
    "print(type(io_new_safe.satellite.D_pba_reg[filter_1]))"
   ]
  },
  {
   "cell_type": "code",
   "execution_count": 234,
   "metadata": {},
   "outputs": [],
   "source": [
    "coal_effects=io_new_safe.satellite.D_pba_reg[filter_1][['AU']]\n",
    "#coal_effects.plot.bar()"
   ]
  },
  {
   "cell_type": "code",
   "execution_count": 242,
   "metadata": {},
   "outputs": [],
   "source": [
    "filter_2=io_new_safe.satellite.unit.index.str.contains(r'(coal|anthracite|employment)([^electricity])', case=False, regex=True)\n",
    "#io_new_safe.satellite.unit[filter_2]"
   ]
  },
  {
   "cell_type": "markdown",
   "metadata": {},
   "source": [
    "## Australia\n",
    "### Set final demand to \"0\" except for the coal sector\n",
    "To calculate for the new ﬁnal demand we have to remove everything from the system except for the coefﬁcients (A,L,S,M)\n",
    "\n",
    "**A** - direct requirement matrix 𝐴 is given by multiplication of transaction matrix 𝑍 with the diagonalised and inverted industry output 𝑥.  \n",
    "**L** - total requirement matrix (Leontief matrix).  \n",
    "**S** - factor of production coefﬁcients.  \n",
    "**M** - multipliers for 𝐹 are obtained by **M=SL**  \n",
    "\n",
    "If the factor of production represent required **environmental impacts**, these can also occur during the ﬁnal use phase. In that case **𝐺** describe the impacts associated with ﬁnal demand."
   ]
  },
  {
   "cell_type": "code",
   "execution_count": 13,
   "metadata": {},
   "outputs": [
    {
     "data": {
      "text/plain": [
       "<pymrio.core.mriosystem.IOSystem at 0x23c8ea91d88>"
      ]
     },
     "execution_count": 13,
     "metadata": {},
     "output_type": "execute_result"
    }
   ],
   "source": [
    "io_new.reset_all_to_coefficients()"
   ]
  },
  {
   "cell_type": "code",
   "execution_count": 15,
   "metadata": {},
   "outputs": [],
   "source": [
    "#io_new.satellite.D_pba_reg[filter_1][['AU']] # should be error message if run before the calc_all"
   ]
  },
  {
   "cell_type": "code",
   "execution_count": 16,
   "metadata": {},
   "outputs": [],
   "source": [
    "io_new.Y = io_new_safe.Y * 0 \n",
    "#io_new.Y.head()"
   ]
  },
  {
   "cell_type": "code",
   "execution_count": 17,
   "metadata": {},
   "outputs": [],
   "source": [
    "io_new.Y.loc[('AU','Coking Coal'),('AU', 'Exports: Total (fob)')]=1000\n",
    "#io_new.Y.loc[('AU','Coking coal'),('AU', 'Exports: Total (fob)')]"
   ]
  },
  {
   "cell_type": "code",
   "execution_count": 18,
   "metadata": {},
   "outputs": [
    {
     "data": {
      "text/plain": [
       "<pymrio.core.mriosystem.IOSystem at 0x23c8ea91d88>"
      ]
     },
     "execution_count": 18,
     "metadata": {},
     "output_type": "execute_result"
    }
   ],
   "source": [
    "io_new.calc_all()"
   ]
  },
  {
   "cell_type": "code",
   "execution_count": 44,
   "metadata": {},
   "outputs": [
    {
     "name": "stdout",
     "output_type": "stream",
     "text": [
      "<class 'pandas.core.frame.DataFrame'>\n"
     ]
    },
    {
     "data": {
      "text/html": [
       "<div>\n",
       "<style scoped>\n",
       "    .dataframe tbody tr th:only-of-type {\n",
       "        vertical-align: middle;\n",
       "    }\n",
       "\n",
       "    .dataframe tbody tr th {\n",
       "        vertical-align: top;\n",
       "    }\n",
       "\n",
       "    .dataframe thead th {\n",
       "        text-align: right;\n",
       "    }\n",
       "</style>\n",
       "<table border=\"1\" class=\"dataframe\">\n",
       "  <thead>\n",
       "    <tr style=\"text-align: right;\">\n",
       "      <th>region</th>\n",
       "      <th>AU</th>\n",
       "    </tr>\n",
       "  </thead>\n",
       "  <tbody>\n",
       "    <tr>\n",
       "      <th>Employment: Low-skilled male</th>\n",
       "      <td>2.081305e-01</td>\n",
       "    </tr>\n",
       "    <tr>\n",
       "      <th>Employment: Low-skilled female</th>\n",
       "      <td>9.415877e-02</td>\n",
       "    </tr>\n",
       "    <tr>\n",
       "      <th>Employment: Medium-skilled male</th>\n",
       "      <td>1.632375e+00</td>\n",
       "    </tr>\n",
       "    <tr>\n",
       "      <th>Employment: Medium-skilled female</th>\n",
       "      <td>6.889962e-01</td>\n",
       "    </tr>\n",
       "    <tr>\n",
       "      <th>Employment: High-skilled male</th>\n",
       "      <td>1.014618e+00</td>\n",
       "    </tr>\n",
       "    <tr>\n",
       "      <th>Employment: High-skilled female</th>\n",
       "      <td>5.847559e-01</td>\n",
       "    </tr>\n",
       "    <tr>\n",
       "      <th>Employment hours: Low-skilled male</th>\n",
       "      <td>4.166129e-01</td>\n",
       "    </tr>\n",
       "    <tr>\n",
       "      <th>Employment hours: Low-skilled female</th>\n",
       "      <td>1.839261e-01</td>\n",
       "    </tr>\n",
       "    <tr>\n",
       "      <th>Employment hours: Medium-skilled male</th>\n",
       "      <td>3.386005e+00</td>\n",
       "    </tr>\n",
       "    <tr>\n",
       "      <th>Employment hours: Medium-skilled female</th>\n",
       "      <td>1.303147e+00</td>\n",
       "    </tr>\n",
       "    <tr>\n",
       "      <th>Employment hours: High-skilled male</th>\n",
       "      <td>2.032823e+00</td>\n",
       "    </tr>\n",
       "    <tr>\n",
       "      <th>Employment hours: High-skilled female</th>\n",
       "      <td>1.146142e+00</td>\n",
       "    </tr>\n",
       "    <tr>\n",
       "      <th>Employment: Vulnerable employment</th>\n",
       "      <td>3.544743e-01</td>\n",
       "    </tr>\n",
       "    <tr>\n",
       "      <th>Employment hours: Vulnerable employment</th>\n",
       "      <td>6.598898e-01</td>\n",
       "    </tr>\n",
       "    <tr>\n",
       "      <th>CH4 - non combustion - Mining of bituminous coal - air</th>\n",
       "      <td>2.030578e+08</td>\n",
       "    </tr>\n",
       "    <tr>\n",
       "      <th>CH4 - non combustion - Mining of coking coal - air</th>\n",
       "      <td>2.097663e+08</td>\n",
       "    </tr>\n",
       "    <tr>\n",
       "      <th>CH4 - non combustion - Mining of lignite (brown coal) - air</th>\n",
       "      <td>3.638651e+06</td>\n",
       "    </tr>\n",
       "    <tr>\n",
       "      <th>CH4 - non combustion - Mining of sub-bituminous coal - air</th>\n",
       "      <td>5.968487e+07</td>\n",
       "    </tr>\n",
       "    <tr>\n",
       "      <th>PM10 - non combustion - Mining of bituminous coal - air</th>\n",
       "      <td>6.894188e+05</td>\n",
       "    </tr>\n",
       "    <tr>\n",
       "      <th>PM10 - non combustion - Mining of coking coal - air</th>\n",
       "      <td>7.121956e+05</td>\n",
       "    </tr>\n",
       "    <tr>\n",
       "      <th>PM10 - non combustion - Mining of lignite (brown coal) - air</th>\n",
       "      <td>4.104743e+05</td>\n",
       "    </tr>\n",
       "    <tr>\n",
       "      <th>PM10 - non combustion - Mining of sub-bituminous coal - air</th>\n",
       "      <td>2.026412e+05</td>\n",
       "    </tr>\n",
       "    <tr>\n",
       "      <th>PM2.5 - non combustion - Mining of bituminous coal - air</th>\n",
       "      <td>9.400824e+04</td>\n",
       "    </tr>\n",
       "    <tr>\n",
       "      <th>PM2.5 - non combustion - Mining of coking coal - air</th>\n",
       "      <td>9.711405e+04</td>\n",
       "    </tr>\n",
       "    <tr>\n",
       "      <th>PM2.5 - non combustion - Mining of lignite (brown coal) - air</th>\n",
       "      <td>5.065396e+04</td>\n",
       "    </tr>\n",
       "    <tr>\n",
       "      <th>PM2.5 - non combustion - Mining of sub-bituminous coal - air</th>\n",
       "      <td>2.763188e+04</td>\n",
       "    </tr>\n",
       "    <tr>\n",
       "      <th>TSP - non combustion - Mining of bituminous coal - air</th>\n",
       "      <td>1.274849e+06</td>\n",
       "    </tr>\n",
       "    <tr>\n",
       "      <th>TSP - non combustion - Mining of coking coal - air</th>\n",
       "      <td>1.316967e+06</td>\n",
       "    </tr>\n",
       "    <tr>\n",
       "      <th>TSP - non combustion - Mining of lignite (brown coal) - air</th>\n",
       "      <td>7.860684e+05</td>\n",
       "    </tr>\n",
       "    <tr>\n",
       "      <th>TSP - non combustion - Mining of sub-bituminous coal - air</th>\n",
       "      <td>3.747170e+05</td>\n",
       "    </tr>\n",
       "    <tr>\n",
       "      <th>Infrastructure land</th>\n",
       "      <td>0.000000e+00</td>\n",
       "    </tr>\n",
       "  </tbody>\n",
       "</table>\n",
       "</div>"
      ],
      "text/plain": [
       "region                                                        AU\n",
       "Employment: Low-skilled male                        2.081305e-01\n",
       "Employment: Low-skilled female                      9.415877e-02\n",
       "Employment: Medium-skilled male                     1.632375e+00\n",
       "Employment: Medium-skilled female                   6.889962e-01\n",
       "Employment: High-skilled male                       1.014618e+00\n",
       "Employment: High-skilled female                     5.847559e-01\n",
       "Employment hours: Low-skilled male                  4.166129e-01\n",
       "Employment hours: Low-skilled female                1.839261e-01\n",
       "Employment hours: Medium-skilled male               3.386005e+00\n",
       "Employment hours: Medium-skilled female             1.303147e+00\n",
       "Employment hours: High-skilled male                 2.032823e+00\n",
       "Employment hours: High-skilled female               1.146142e+00\n",
       "Employment: Vulnerable employment                   3.544743e-01\n",
       "Employment hours: Vulnerable employment             6.598898e-01\n",
       "CH4 - non combustion - Mining of bituminous coa...  2.030578e+08\n",
       "CH4 - non combustion - Mining of coking coal - air  2.097663e+08\n",
       "CH4 - non combustion - Mining of lignite (brown...  3.638651e+06\n",
       "CH4 - non combustion - Mining of sub-bituminous...  5.968487e+07\n",
       "PM10 - non combustion - Mining of bituminous co...  6.894188e+05\n",
       "PM10 - non combustion - Mining of coking coal -...  7.121956e+05\n",
       "PM10 - non combustion - Mining of lignite (brow...  4.104743e+05\n",
       "PM10 - non combustion - Mining of sub-bituminou...  2.026412e+05\n",
       "PM2.5 - non combustion - Mining of bituminous c...  9.400824e+04\n",
       "PM2.5 - non combustion - Mining of coking coal ...  9.711405e+04\n",
       "PM2.5 - non combustion - Mining of lignite (bro...  5.065396e+04\n",
       "PM2.5 - non combustion - Mining of sub-bitumino...  2.763188e+04\n",
       "TSP - non combustion - Mining of bituminous coa...  1.274849e+06\n",
       "TSP - non combustion - Mining of coking coal - air  1.316967e+06\n",
       "TSP - non combustion - Mining of lignite (brown...  7.860684e+05\n",
       "TSP - non combustion - Mining of sub-bituminous...  3.747170e+05\n",
       "Infrastructure land                                 0.000000e+00"
      ]
     },
     "execution_count": 44,
     "metadata": {},
     "output_type": "execute_result"
    }
   ],
   "source": [
    "print(type(io_new.satellite.D_pba_reg[filter_1]))\n",
    "io_new.satellite.D_pba_reg[filter_1][['AU']]"
   ]
  },
  {
   "cell_type": "code",
   "execution_count": 251,
   "metadata": {},
   "outputs": [],
   "source": [
    "coal_effects=io_new.satellite.D_pba_reg[filter_1][['AU']]\n",
    "#coal_effects.plot.bar()"
   ]
  },
  {
   "cell_type": "code",
   "execution_count": 262,
   "metadata": {},
   "outputs": [],
   "source": [
    "tmp_df=io_new.satellite.D_pba_reg[filter_1] != 0\n",
    "io_new.satellite.D_pba_reg[filter_1][tmp_df].to_csv('./test/satelite.csv')\n",
    "io_new.satellite.unit[filter_2].to_csv('./test/satelite_units.csv')"
   ]
  }
 ],
 "metadata": {
  "kernelspec": {
   "display_name": "Python 3",
   "language": "python",
   "name": "python3"
  },
  "language_info": {
   "codemirror_mode": {
    "name": "ipython",
    "version": 3
   },
   "file_extension": ".py",
   "mimetype": "text/x-python",
   "name": "python",
   "nbconvert_exporter": "python",
   "pygments_lexer": "ipython3",
   "version": "3.7.9"
  }
 },
 "nbformat": 4,
 "nbformat_minor": 4
}
