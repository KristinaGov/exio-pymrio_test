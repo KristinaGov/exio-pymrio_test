{
 "cells": [
  {
   "cell_type": "code",
   "execution_count": 2,
   "metadata": {},
   "outputs": [],
   "source": [
    "import pymrio\n",
    "import matplotlib as plt\n",
    "import pandas as pd\n",
    "import numpy as np\n",
    "from os import chdir, getcwd"
   ]
  },
  {
   "cell_type": "markdown",
   "metadata": {},
   "source": [
    "Choose current directory"
   ]
  },
  {
   "cell_type": "code",
   "execution_count": 3,
   "metadata": {},
   "outputs": [],
   "source": [
    "wd=getcwd()\n",
    "chdir(wd)"
   ]
  },
  {
   "cell_type": "markdown",
   "metadata": {},
   "source": [
    "### Pymrio test example from the guide"
   ]
  },
  {
   "cell_type": "code",
   "execution_count": 2,
   "metadata": {},
   "outputs": [],
   "source": [
    "test_mrio = pymrio.load_test()"
   ]
  },
  {
   "cell_type": "code",
   "execution_count": 4,
   "metadata": {},
   "outputs": [],
   "source": [
    "#print(test_mrio.get_sectors())\n",
    "#print(test_mrio.get_regions())"
   ]
  },
  {
   "cell_type": "markdown",
   "metadata": {},
   "source": [
    "The top level level function calc_all checks the IO System and its extensions for missing parts and calculate these. This function calls the speciﬁc calculation method for the core system and for the extensions."
   ]
  },
  {
   "cell_type": "code",
   "execution_count": 5,
   "metadata": {},
   "outputs": [
    {
     "data": {
      "text/plain": [
       "<pymrio.core.mriosystem.IOSystem at 0x228f1eb5a48>"
      ]
     },
     "execution_count": 5,
     "metadata": {},
     "output_type": "execute_result"
    }
   ],
   "source": [
    "test_mrio.calc_all()"
   ]
  },
  {
   "cell_type": "markdown",
   "metadata": {},
   "source": [
    "**A** - inter-industry coefficients (direct requirements matrix)"
   ]
  },
  {
   "cell_type": "code",
   "execution_count": null,
   "metadata": {},
   "outputs": [],
   "source": [
    "test_mrio.A.head(1)"
   ]
  },
  {
   "cell_type": "markdown",
   "metadata": {},
   "source": [
    "**D_cba** - Consumption based accounts  \n",
    "**D_exp** - export accounts   \n",
    "**D_imp** - import accounts  "
   ]
  },
  {
   "cell_type": "code",
   "execution_count": null,
   "metadata": {},
   "outputs": [],
   "source": [
    "est_mrio.emissions.D_cba.head()\n",
    "test_mrio.emissions.D_exp.head()\n",
    "test_mrio.emissions.D_imp.head()"
   ]
  },
  {
   "cell_type": "markdown",
   "metadata": {},
   "source": [
    "**F** - factor production"
   ]
  },
  {
   "cell_type": "code",
   "execution_count": null,
   "metadata": {},
   "outputs": [],
   "source": [
    "test_mrio.emissions.F.head()"
   ]
  },
  {
   "cell_type": "markdown",
   "metadata": {},
   "source": [
    "**Y** - final demand matrix"
   ]
  },
  {
   "cell_type": "code",
   "execution_count": null,
   "metadata": {},
   "outputs": [],
   "source": [
    "test_mrio.Y.head()"
   ]
  },
  {
   "cell_type": "markdown",
   "metadata": {},
   "source": [
    "**x** - total output, deﬁned as column vector"
   ]
  },
  {
   "cell_type": "code",
   "execution_count": null,
   "metadata": {},
   "outputs": [],
   "source": [
    "test_mrio.x.head()"
   ]
  },
  {
   "cell_type": "markdown",
   "metadata": {},
   "source": [
    "**Z** - transactions matrix, inter industry ﬂows"
   ]
  },
  {
   "cell_type": "code",
   "execution_count": null,
   "metadata": {},
   "outputs": [],
   "source": [
    "test_mrio.Z.head()"
   ]
  },
  {
   "cell_type": "markdown",
   "metadata": {},
   "source": [
    "## TEST PYMRIO for PAPER"
   ]
  },
  {
   "cell_type": "markdown",
   "metadata": {},
   "source": [
    "Show the folder. The pymrio parser works with the compressed (zip) ﬁles as well as the unpacked ﬁles.\n",
    "\n",
    "MrIOT IxI fpa coefﬁcient version2 2 2 for the industry by industry (ixi) MRIO system. E.g. -  **'Cultivation of paddy rice'**\n",
    "\n",
    "MrIOT PxP ita coefﬁcient version2 2 2 for the product by product (pxp) MRIO system. E.g. -  **'Paddy rice'**"
   ]
  },
  {
   "cell_type": "markdown",
   "metadata": {},
   "source": [
    "First parse the downloaded exiobase (zip) and save it to the folder."
   ]
  },
  {
   "cell_type": "code",
   "execution_count": null,
   "metadata": {},
   "outputs": [],
   "source": [
    "exio3 = pymrio.parse_exiobase3(path='./exio3/exiobase3.4_iot_2011_pxp.zip')\n",
    "exio3.calc_all()\n",
    "exio3.save_all(path='./exio_org')"
   ]
  },
  {
   "cell_type": "markdown",
   "metadata": {},
   "source": [
    "Load the parsed exiobase"
   ]
  },
  {
   "cell_type": "code",
   "execution_count": 37,
   "metadata": {},
   "outputs": [],
   "source": [
    "io_new_safe = pymrio.load_all(path='./exio_org')\n",
    "io_new = io_new_safe.copy()"
   ]
  },
  {
   "cell_type": "markdown",
   "metadata": {},
   "source": [
    "#### Study initial tables before calculating all\n",
    "**A** - inter-industry coefficients 𝐴 = 𝑍 𝑥^(−1)  \n",
    "**Y** - final demand  \n",
    "**unit** - units"
   ]
  },
  {
   "cell_type": "code",
   "execution_count": 6,
   "metadata": {},
   "outputs": [],
   "source": [
    "#io_new_safe.A.head()\n",
    "#io_new_safe.Y.head()\n",
    "#io_new_safe.unit.head()"
   ]
  },
  {
   "cell_type": "markdown",
   "metadata": {},
   "source": [
    "#### Study initial tables indexes and metadata"
   ]
  },
  {
   "cell_type": "code",
   "execution_count": 78,
   "metadata": {},
   "outputs": [
    {
     "data": {
      "text/plain": [
       "MultiIndex([('AT',                                          'Paddy rice'),\n",
       "            ('AT',                                               'Wheat'),\n",
       "            ('AT',                                   'Cereal grains nec'),\n",
       "            ('AT',                             'Vegetables, fruit, nuts'),\n",
       "            ('AT',                                           'Oil seeds'),\n",
       "            ('AT',                              'Sugar cane, sugar beet'),\n",
       "            ('AT',                                  'Plant-based fibers'),\n",
       "            ('AT',                                           'Crops nec'),\n",
       "            ('AT',                                              'Cattle'),\n",
       "            ('AT',                                                'Pigs'),\n",
       "            ...\n",
       "            ('WM',                       'Paper for treatment: landfill'),\n",
       "            ('WM',               'Plastic waste for treatment: landfill'),\n",
       "            ('WM', 'Inert/metal/hazardous waste for treatment: landfill'),\n",
       "            ('WM',              'Textiles waste for treatment: landfill'),\n",
       "            ('WM',                  'Wood waste for treatment: landfill'),\n",
       "            ('WM',        'Membership organisation services n.e.c. (91)'),\n",
       "            ('WM',   'Recreational, cultural and sporting services (92)'),\n",
       "            ('WM',                                 'Other services (93)'),\n",
       "            ('WM',       'Private households with employed persons (95)'),\n",
       "            ('WM',          'Extra-territorial organizations and bodies')],\n",
       "           names=['region', 'sector'], length=9800)"
      ]
     },
     "execution_count": 78,
     "metadata": {},
     "output_type": "execute_result"
    }
   ],
   "source": [
    "#io_new_safe.meta\n",
    "#io_new_safe.get_sectors()\n",
    "#io_new_safe.get_index()"
   ]
  },
  {
   "cell_type": "markdown",
   "metadata": {},
   "source": [
    "#### See extensions - satellites"
   ]
  },
  {
   "cell_type": "code",
   "execution_count": 8,
   "metadata": {},
   "outputs": [
    {
     "data": {
      "text/plain": [
       "['satellite']"
      ]
     },
     "execution_count": 8,
     "metadata": {},
     "output_type": "execute_result"
    }
   ],
   "source": [
    "list(io_new_safe.get_extensions())"
   ]
  },
  {
   "cell_type": "markdown",
   "metadata": {},
   "source": [
    "#### Study initial satellite tables before calculating all\n",
    "F - final resource transfer coefficient matrix  \n",
    "F_hh - ???  \n",
    "unit - units  "
   ]
  },
  {
   "cell_type": "code",
   "execution_count": 40,
   "metadata": {},
   "outputs": [],
   "source": [
    "#io_new_safe.satellite.F.head()\n",
    "#io_new_safe.satellite.F_hh.head()\n",
    "#io_new_safe.satellite.unit.head(1)"
   ]
  },
  {
   "cell_type": "markdown",
   "metadata": {},
   "source": [
    "#### Study initial satellite tables indexes"
   ]
  },
  {
   "cell_type": "code",
   "execution_count": 73,
   "metadata": {},
   "outputs": [
    {
     "data": {
      "text/plain": [
       "Index(['Taxes less subsidies on products purchased: Total',\n",
       "       'Other net taxes on production',\n",
       "       'Compensation of employees; wages, salaries, & employers social contributions: Low-skilled',\n",
       "       'Compensation of employees; wages, salaries, & employers social contributions: Medium-skilled',\n",
       "       'Compensation of employees; wages, salaries, & employers social contributions: High-skilled',\n",
       "       'Operating surplus: Consumption of fixed capital',\n",
       "       'Operating surplus: Rents on land',\n",
       "       'Operating surplus: Royalties on resources',\n",
       "       'Operating surplus: Remaining net operating surplus',\n",
       "       'Employment: Low-skilled male',\n",
       "       ...\n",
       "       'Water Withdrawal Blue - Electricity - once-through - Electricity by hydro',\n",
       "       'Water Withdrawal Blue - Electricity - once-through - Electricity by wind',\n",
       "       'Water Withdrawal Blue - Electricity - once-through - Electricity by petroleum and other oil derivatives',\n",
       "       'Water Withdrawal Blue - Electricity - once-through - Electricity by biomass and waste',\n",
       "       'Water Withdrawal Blue - Electricity - once-through - Electricity by solar photovoltaic',\n",
       "       'Water Withdrawal Blue - Electricity - once-through - Electricity by solar thermal',\n",
       "       'Water Withdrawal Blue - Electricity - once-through - Electricity by tide, wave, ocean',\n",
       "       'Water Withdrawal Blue - Electricity - once-through - Electricity by Geothermal',\n",
       "       'Water Withdrawal Blue - Electricity - once-through - Electricity nec',\n",
       "       'Water Withdrawal Blue - Domestic - domestic Water Withdrawal Blue'],\n",
       "      dtype='object', length=1104)"
      ]
     },
     "execution_count": 73,
     "metadata": {},
     "output_type": "execute_result"
    }
   ],
   "source": [
    "#io_new_safe.satellite.get_sectors()\n",
    "#io_new_safe.satellite.get_regions()\n",
    "io_new_safe.satellite.get_index()\n",
    "#io_new_safe.satellite.get_rows()"
   ]
  },
  {
   "cell_type": "markdown",
   "metadata": {},
   "source": [
    "#### See all coal types in the data index\n",
    "level 1 - sectors, level 0 - regions  \n",
    "filter_c - filters for keawords in the index to spot all items related to cosen coal types."
   ]
  },
  {
   "cell_type": "code",
   "execution_count": 72,
   "metadata": {},
   "outputs": [
    {
     "data": {
      "text/plain": [
       "Index(['Coking Coal', 'Other Bituminous Coal', 'Sub-Bituminous Coal',\n",
       "       'Lignite/Brown Coal', 'Coal Tar', 'Charcoal', 'Electricity by coal'],\n",
       "      dtype='object', name='sector')"
      ]
     },
     "execution_count": 72,
     "metadata": {},
     "output_type": "execute_result"
    }
   ],
   "source": [
    "filter_c=io_new_safe.Y.index.get_level_values(1).str.contains('coal', case=False, regex=False)\n",
    "coal_types=io_new_safe.Y.index.get_level_values(1)[filter_c].drop_duplicates()\n",
    "coal_types"
   ]
  },
  {
   "cell_type": "code",
   "execution_count": 74,
   "metadata": {},
   "outputs": [
    {
     "data": {
      "text/html": [
       "<div>\n",
       "<style scoped>\n",
       "    .dataframe tbody tr th:only-of-type {\n",
       "        vertical-align: middle;\n",
       "    }\n",
       "\n",
       "    .dataframe tbody tr th {\n",
       "        vertical-align: top;\n",
       "    }\n",
       "\n",
       "    .dataframe thead tr th {\n",
       "        text-align: left;\n",
       "    }\n",
       "\n",
       "    .dataframe thead tr:last-of-type th {\n",
       "        text-align: right;\n",
       "    }\n",
       "</style>\n",
       "<table border=\"1\" class=\"dataframe\">\n",
       "  <thead>\n",
       "    <tr>\n",
       "      <th></th>\n",
       "      <th>region</th>\n",
       "      <th colspan=\"7\" halign=\"left\">AT</th>\n",
       "      <th colspan=\"3\" halign=\"left\">BE</th>\n",
       "      <th>...</th>\n",
       "      <th colspan=\"3\" halign=\"left\">WF</th>\n",
       "      <th colspan=\"7\" halign=\"left\">WM</th>\n",
       "    </tr>\n",
       "    <tr>\n",
       "      <th></th>\n",
       "      <th>category</th>\n",
       "      <th>Final consumption expenditure by households</th>\n",
       "      <th>Final consumption expenditure by non-profit organisations serving households (NPISH)</th>\n",
       "      <th>Final consumption expenditure by government</th>\n",
       "      <th>Gross fixed capital formation</th>\n",
       "      <th>Changes in inventories</th>\n",
       "      <th>Changes in valuables</th>\n",
       "      <th>Exports: Total (fob)</th>\n",
       "      <th>Final consumption expenditure by households</th>\n",
       "      <th>Final consumption expenditure by non-profit organisations serving households (NPISH)</th>\n",
       "      <th>Final consumption expenditure by government</th>\n",
       "      <th>...</th>\n",
       "      <th>Changes in inventories</th>\n",
       "      <th>Changes in valuables</th>\n",
       "      <th>Exports: Total (fob)</th>\n",
       "      <th>Final consumption expenditure by households</th>\n",
       "      <th>Final consumption expenditure by non-profit organisations serving households (NPISH)</th>\n",
       "      <th>Final consumption expenditure by government</th>\n",
       "      <th>Gross fixed capital formation</th>\n",
       "      <th>Changes in inventories</th>\n",
       "      <th>Changes in valuables</th>\n",
       "      <th>Exports: Total (fob)</th>\n",
       "    </tr>\n",
       "    <tr>\n",
       "      <th>region</th>\n",
       "      <th>sector</th>\n",
       "      <th></th>\n",
       "      <th></th>\n",
       "      <th></th>\n",
       "      <th></th>\n",
       "      <th></th>\n",
       "      <th></th>\n",
       "      <th></th>\n",
       "      <th></th>\n",
       "      <th></th>\n",
       "      <th></th>\n",
       "      <th></th>\n",
       "      <th></th>\n",
       "      <th></th>\n",
       "      <th></th>\n",
       "      <th></th>\n",
       "      <th></th>\n",
       "      <th></th>\n",
       "      <th></th>\n",
       "      <th></th>\n",
       "      <th></th>\n",
       "      <th></th>\n",
       "    </tr>\n",
       "  </thead>\n",
       "  <tbody>\n",
       "    <tr>\n",
       "      <th>AU</th>\n",
       "      <th>Anthracite</th>\n",
       "      <td>0.0</td>\n",
       "      <td>0.0</td>\n",
       "      <td>0.0</td>\n",
       "      <td>0.0</td>\n",
       "      <td>0.0</td>\n",
       "      <td>0</td>\n",
       "      <td>0</td>\n",
       "      <td>0.0</td>\n",
       "      <td>0.0</td>\n",
       "      <td>0.0</td>\n",
       "      <td>...</td>\n",
       "      <td>0.0</td>\n",
       "      <td>0.0</td>\n",
       "      <td>0</td>\n",
       "      <td>0.006366</td>\n",
       "      <td>0.00001</td>\n",
       "      <td>0.000364</td>\n",
       "      <td>0.0</td>\n",
       "      <td>0</td>\n",
       "      <td>0</td>\n",
       "      <td>0</td>\n",
       "    </tr>\n",
       "  </tbody>\n",
       "</table>\n",
       "<p>1 rows × 343 columns</p>\n",
       "</div>"
      ],
      "text/plain": [
       "region                                                     AT  \\\n",
       "category          Final consumption expenditure by households   \n",
       "region sector                                                   \n",
       "AU     Anthracite                                         0.0   \n",
       "\n",
       "region                                                                                                  \\\n",
       "category          Final consumption expenditure by non-profit organisations serving households (NPISH)   \n",
       "region sector                                                                                            \n",
       "AU     Anthracite                                                0.0                                     \n",
       "\n",
       "region                                                         \\\n",
       "category          Final consumption expenditure by government   \n",
       "region sector                                                   \n",
       "AU     Anthracite                                         0.0   \n",
       "\n",
       "region                                                                  \\\n",
       "category          Gross fixed capital formation Changes in inventories   \n",
       "region sector                                                            \n",
       "AU     Anthracite                           0.0                    0.0   \n",
       "\n",
       "region                                                       \\\n",
       "category          Changes in valuables Exports: Total (fob)   \n",
       "region sector                                                 \n",
       "AU     Anthracite                    0                    0   \n",
       "\n",
       "region                                                     BE  \\\n",
       "category          Final consumption expenditure by households   \n",
       "region sector                                                   \n",
       "AU     Anthracite                                         0.0   \n",
       "\n",
       "region                                                                                                  \\\n",
       "category          Final consumption expenditure by non-profit organisations serving households (NPISH)   \n",
       "region sector                                                                                            \n",
       "AU     Anthracite                                                0.0                                     \n",
       "\n",
       "region                                                         ...  \\\n",
       "category          Final consumption expenditure by government  ...   \n",
       "region sector                                                  ...   \n",
       "AU     Anthracite                                         0.0  ...   \n",
       "\n",
       "region                                WF                       \\\n",
       "category          Changes in inventories Changes in valuables   \n",
       "region sector                                                   \n",
       "AU     Anthracite                    0.0                  0.0   \n",
       "\n",
       "region                                  \\\n",
       "category          Exports: Total (fob)   \n",
       "region sector                            \n",
       "AU     Anthracite                    0   \n",
       "\n",
       "region                                                     WM  \\\n",
       "category          Final consumption expenditure by households   \n",
       "region sector                                                   \n",
       "AU     Anthracite                                    0.006366   \n",
       "\n",
       "region                                                                                                  \\\n",
       "category          Final consumption expenditure by non-profit organisations serving households (NPISH)   \n",
       "region sector                                                                                            \n",
       "AU     Anthracite                                            0.00001                                     \n",
       "\n",
       "region                                                         \\\n",
       "category          Final consumption expenditure by government   \n",
       "region sector                                                   \n",
       "AU     Anthracite                                    0.000364   \n",
       "\n",
       "region                                                                  \\\n",
       "category          Gross fixed capital formation Changes in inventories   \n",
       "region sector                                                            \n",
       "AU     Anthracite                           0.0                      0   \n",
       "\n",
       "region                                                       \n",
       "category          Changes in valuables Exports: Total (fob)  \n",
       "region sector                                                \n",
       "AU     Anthracite                    0                    0  \n",
       "\n",
       "[1 rows x 343 columns]"
      ]
     },
     "execution_count": 74,
     "metadata": {},
     "output_type": "execute_result"
    }
   ],
   "source": [
    "io_new_safe.Y.loc[[('AU','Anthracite')]]"
   ]
  },
  {
   "cell_type": "markdown",
   "metadata": {},
   "source": [
    "#### Following lines are to study the structure of the MRIO tables  \n",
    "*after they are calculated*"
   ]
  },
  {
   "cell_type": "markdown",
   "metadata": {},
   "source": [
    "To calculate all tables start with:"
   ]
  },
  {
   "cell_type": "code",
   "execution_count": 8,
   "metadata": {},
   "outputs": [
    {
     "data": {
      "text/plain": [
       "<pymrio.core.mriosystem.IOSystem at 0x7f92cd83ae90>"
      ]
     },
     "execution_count": 8,
     "metadata": {},
     "output_type": "execute_result"
    }
   ],
   "source": [
    "io_new_safe.calc_all()"
   ]
  },
  {
   "cell_type": "markdown",
   "metadata": {},
   "source": [
    "#### The following tables occur as soon as calculation of the MRIO is done.\n",
    "\n",
    "**x** - total output, deﬁned as column vector  𝑥 = 𝑍𝑒 + 𝑌𝑒  \n",
    "**L** - total requirement matrix (Leontief matrix)  \n",
    "**Z** - transactions matrix, inter industry ﬂows"
   ]
  },
  {
   "cell_type": "code",
   "execution_count": 43,
   "metadata": {},
   "outputs": [],
   "source": [
    "#io_new_safe.x.head(1)\n",
    "#io_new_safe.L.head(1)\n",
    "#io_new_safe.Z.head(1)"
   ]
  },
  {
   "cell_type": "markdown",
   "metadata": {},
   "source": [
    "#### The following *satelite* tables occur as soon as calculation of the MRIO is done.\n",
    "\n",
    "**D_cba** - total requirements (footprints in case of environmental requirements) for any given ﬁnal demand vector 𝑦  \n",
    "**D_exp** - the factors of production occurring domestically to satisfy ﬁnal demand in other countries  \n",
    "**D_imp** - factor of production occurring abroad (embodied in imports).      *Setting the domestically satisﬁed ﬁnal demand 𝑌𝑖 ,𝑖 to zero (𝑌𝑡 = 𝑌 − 𝑌𝑖 ,𝑗 | 𝑖 = 𝑗) allow to calculate the factor of production occurring abroad (embodied in imports)*  \n",
    "**D_pba**  - production based accounts (direct territorial requirements) per country  \n",
    "𝐷𝑖 𝑐𝑏𝑎 = 𝐷𝑖 𝑝𝑏𝑎 + 𝐷𝑖 𝑖𝑚𝑝 − 𝐷𝑖 𝑒𝑥𝑝\n",
    "\n",
    "**..._reg** - add to the name to see matrixes per region and not industry"
   ]
  },
  {
   "cell_type": "code",
   "execution_count": 44,
   "metadata": {},
   "outputs": [],
   "source": [
    "#io_new_safe.satellite.D_cba.head()\n",
    "#io_new_safe.satellite.D_exp.head()\n",
    "#io_new_safe.satellite.D_imp.head()\n",
    "#io_new_safe.satellite.D_pba.head()\n",
    "#io_new_safe.satellite.D_pba_reg.head(1)\n",
    "#io_new_safe.satellite.D_cba_reg.head()\n",
    "#io_new_safe.satellite.D_imp_reg.head()\n",
    "#io_new_safe.satellite.D_exp_reg.head()"
   ]
  },
  {
   "cell_type": "markdown",
   "metadata": {},
   "source": [
    "Check what indexes in satellite pba production based accounts related to coal or other search items:  \n",
    "filter_1 - fiters for accounts directly connected to coal production  \n",
    "filter_2 - filters for units of the selected accounts"
   ]
  },
  {
   "cell_type": "code",
   "execution_count": 77,
   "metadata": {},
   "outputs": [
    {
     "data": {
      "text/plain": [
       "Index(['CH4 - non combustion - Mining of bituminous coal - air',\n",
       "       'CH4 - non combustion - Mining of coking coal - air',\n",
       "       'CH4 - non combustion - Mining of lignite (brown coal) - air',\n",
       "       'CH4 - non combustion - Mining of sub-bituminous coal - air',\n",
       "       'PM10 - non combustion - Mining of bituminous coal - air',\n",
       "       'PM10 - non combustion - Mining of coking coal - air',\n",
       "       'PM10 - non combustion - Mining of lignite (brown coal) - air',\n",
       "       'PM10 - non combustion - Mining of sub-bituminous coal - air',\n",
       "       'PM2.5 - non combustion - Mining of bituminous coal - air',\n",
       "       'PM2.5 - non combustion - Mining of coking coal - air',\n",
       "       'PM2.5 - non combustion - Mining of lignite (brown coal) - air',\n",
       "       'PM2.5 - non combustion - Mining of sub-bituminous coal - air',\n",
       "       'TSP - non combustion - Mining of bituminous coal - air',\n",
       "       'TSP - non combustion - Mining of coking coal - air',\n",
       "       'TSP - non combustion - Mining of lignite (brown coal) - air',\n",
       "       'TSP - non combustion - Mining of sub-bituminous coal - air',\n",
       "       'Unused Domestic Extraction - Fossil Fuels - Coking coal',\n",
       "       'Unused Domestic Extraction - Fossil Fuels - Lignite/brown coal',\n",
       "       'Unused Domestic Extraction - Fossil Fuels - Other bituminous coal',\n",
       "       'Unused Domestic Extraction - Fossil Fuels - Sub-bituminous coal',\n",
       "       'Water Consumption Blue - Electricity - tower - Electricity by coal',\n",
       "       'Water Consumption Blue - Electricity - once-through - Electricity by coal',\n",
       "       'Water Withdrawal Blue - Electricity - tower - Electricity by coal',\n",
       "       'Water Withdrawal Blue - Electricity - once-through - Electricity by coal'],\n",
       "      dtype='object')"
      ]
     },
     "execution_count": 77,
     "metadata": {},
     "output_type": "execute_result"
    }
   ],
   "source": [
    "filter_1=io_new_safe.satellite.D_pba_reg.index.str.contains('coal', regex=False)\n",
    "io_new_safe.satellite.D_pba_reg.index[io_new_safe.satellite.D_pba_reg.index.str.contains('coal', regex=False)]"
   ]
  },
  {
   "cell_type": "code",
   "execution_count": 68,
   "metadata": {},
   "outputs": [
    {
     "name": "stdout",
     "output_type": "stream",
     "text": [
      "<class 'pandas.core.frame.DataFrame'>\n"
     ]
    },
    {
     "data": {
      "text/html": [
       "<div>\n",
       "<style scoped>\n",
       "    .dataframe tbody tr th:only-of-type {\n",
       "        vertical-align: middle;\n",
       "    }\n",
       "\n",
       "    .dataframe tbody tr th {\n",
       "        vertical-align: top;\n",
       "    }\n",
       "\n",
       "    .dataframe thead th {\n",
       "        text-align: right;\n",
       "    }\n",
       "</style>\n",
       "<table border=\"1\" class=\"dataframe\">\n",
       "  <thead>\n",
       "    <tr style=\"text-align: right;\">\n",
       "      <th></th>\n",
       "      <th>AU</th>\n",
       "    </tr>\n",
       "  </thead>\n",
       "  <tbody>\n",
       "    <tr>\n",
       "      <th>CH4 - non combustion - Mining of bituminous coal - air</th>\n",
       "      <td>1.150362e+09</td>\n",
       "    </tr>\n",
       "    <tr>\n",
       "      <th>CH4 - non combustion - Mining of coking coal - air</th>\n",
       "      <td>1.188367e+09</td>\n",
       "    </tr>\n",
       "    <tr>\n",
       "      <th>CH4 - non combustion - Mining of lignite (brown coal) - air</th>\n",
       "      <td>2.061367e+07</td>\n",
       "    </tr>\n",
       "    <tr>\n",
       "      <th>CH4 - non combustion - Mining of sub-bituminous coal - air</th>\n",
       "      <td>3.381264e+08</td>\n",
       "    </tr>\n",
       "    <tr>\n",
       "      <th>PM10 - non combustion - Mining of bituminous coal - air</th>\n",
       "      <td>3.905692e+06</td>\n",
       "    </tr>\n",
       "    <tr>\n",
       "      <th>PM10 - non combustion - Mining of coking coal - air</th>\n",
       "      <td>4.034727e+06</td>\n",
       "    </tr>\n",
       "    <tr>\n",
       "      <th>PM10 - non combustion - Mining of lignite (brown coal) - air</th>\n",
       "      <td>2.325417e+06</td>\n",
       "    </tr>\n",
       "    <tr>\n",
       "      <th>PM10 - non combustion - Mining of sub-bituminous coal - air</th>\n",
       "      <td>1.148002e+06</td>\n",
       "    </tr>\n",
       "    <tr>\n",
       "      <th>PM2.5 - non combustion - Mining of bituminous coal - air</th>\n",
       "      <td>5.325750e+05</td>\n",
       "    </tr>\n",
       "    <tr>\n",
       "      <th>PM2.5 - non combustion - Mining of coking coal - air</th>\n",
       "      <td>5.501700e+05</td>\n",
       "    </tr>\n",
       "    <tr>\n",
       "      <th>PM2.5 - non combustion - Mining of lignite (brown coal) - air</th>\n",
       "      <td>2.869645e+05</td>\n",
       "    </tr>\n",
       "    <tr>\n",
       "      <th>PM2.5 - non combustion - Mining of sub-bituminous coal - air</th>\n",
       "      <td>1.565400e+05</td>\n",
       "    </tr>\n",
       "    <tr>\n",
       "      <th>TSP - non combustion - Mining of bituminous coal - air</th>\n",
       "      <td>7.222269e+06</td>\n",
       "    </tr>\n",
       "    <tr>\n",
       "      <th>TSP - non combustion - Mining of coking coal - air</th>\n",
       "      <td>7.460876e+06</td>\n",
       "    </tr>\n",
       "    <tr>\n",
       "      <th>TSP - non combustion - Mining of lignite (brown coal) - air</th>\n",
       "      <td>4.453231e+06</td>\n",
       "    </tr>\n",
       "    <tr>\n",
       "      <th>TSP - non combustion - Mining of sub-bituminous coal - air</th>\n",
       "      <td>2.122845e+06</td>\n",
       "    </tr>\n",
       "    <tr>\n",
       "      <th>Unused Domestic Extraction - Fossil Fuels - Coking coal</th>\n",
       "      <td>2.582131e+06</td>\n",
       "    </tr>\n",
       "    <tr>\n",
       "      <th>Unused Domestic Extraction - Fossil Fuels - Lignite/brown coal</th>\n",
       "      <td>5.254000e+05</td>\n",
       "    </tr>\n",
       "    <tr>\n",
       "      <th>Unused Domestic Extraction - Fossil Fuels - Other bituminous coal</th>\n",
       "      <td>2.499552e+06</td>\n",
       "    </tr>\n",
       "    <tr>\n",
       "      <th>Unused Domestic Extraction - Fossil Fuels - Sub-bituminous coal</th>\n",
       "      <td>7.346944e+05</td>\n",
       "    </tr>\n",
       "    <tr>\n",
       "      <th>Water Consumption Blue - Electricity - tower - Electricity by coal</th>\n",
       "      <td>2.397900e+02</td>\n",
       "    </tr>\n",
       "    <tr>\n",
       "      <th>Water Consumption Blue - Electricity - once-through - Electricity by coal</th>\n",
       "      <td>1.020685e+00</td>\n",
       "    </tr>\n",
       "    <tr>\n",
       "      <th>Water Withdrawal Blue - Electricity - tower - Electricity by coal</th>\n",
       "      <td>2.811433e+02</td>\n",
       "    </tr>\n",
       "    <tr>\n",
       "      <th>Water Withdrawal Blue - Electricity - once-through - Electricity by coal</th>\n",
       "      <td>1.233552e+02</td>\n",
       "    </tr>\n",
       "  </tbody>\n",
       "</table>\n",
       "</div>"
      ],
      "text/plain": [
       "                                                              AU\n",
       "CH4 - non combustion - Mining of bituminous coa...  1.150362e+09\n",
       "CH4 - non combustion - Mining of coking coal - air  1.188367e+09\n",
       "CH4 - non combustion - Mining of lignite (brown...  2.061367e+07\n",
       "CH4 - non combustion - Mining of sub-bituminous...  3.381264e+08\n",
       "PM10 - non combustion - Mining of bituminous co...  3.905692e+06\n",
       "PM10 - non combustion - Mining of coking coal -...  4.034727e+06\n",
       "PM10 - non combustion - Mining of lignite (brow...  2.325417e+06\n",
       "PM10 - non combustion - Mining of sub-bituminou...  1.148002e+06\n",
       "PM2.5 - non combustion - Mining of bituminous c...  5.325750e+05\n",
       "PM2.5 - non combustion - Mining of coking coal ...  5.501700e+05\n",
       "PM2.5 - non combustion - Mining of lignite (bro...  2.869645e+05\n",
       "PM2.5 - non combustion - Mining of sub-bitumino...  1.565400e+05\n",
       "TSP - non combustion - Mining of bituminous coa...  7.222269e+06\n",
       "TSP - non combustion - Mining of coking coal - air  7.460876e+06\n",
       "TSP - non combustion - Mining of lignite (brown...  4.453231e+06\n",
       "TSP - non combustion - Mining of sub-bituminous...  2.122845e+06\n",
       "Unused Domestic Extraction - Fossil Fuels - Cok...  2.582131e+06\n",
       "Unused Domestic Extraction - Fossil Fuels - Lig...  5.254000e+05\n",
       "Unused Domestic Extraction - Fossil Fuels - Oth...  2.499552e+06\n",
       "Unused Domestic Extraction - Fossil Fuels - Sub...  7.346944e+05\n",
       "Water Consumption Blue - Electricity - tower - ...  2.397900e+02\n",
       "Water Consumption Blue - Electricity - once-thr...  1.020685e+00\n",
       "Water Withdrawal Blue - Electricity - tower - E...  2.811433e+02\n",
       "Water Withdrawal Blue - Electricity - once-thro...  1.233552e+02"
      ]
     },
     "execution_count": 68,
     "metadata": {},
     "output_type": "execute_result"
    }
   ],
   "source": [
    "print(type(io_new_safe.satellite.D_pba_reg[filter_1]))\n",
    "io_new_safe.satellite.D_pba_reg[filter_1][['AU']]"
   ]
  },
  {
   "cell_type": "code",
   "execution_count": 70,
   "metadata": {},
   "outputs": [
    {
     "data": {
      "text/plain": [
       "<AxesSubplot:>"
      ]
     },
     "execution_count": 70,
     "metadata": {},
     "output_type": "execute_result"
    },
    {
     "data": {
      "image/png": "[encoded data removed]",
      "text/plain": [
       "<Figure size 432x288 with 1 Axes>"
      ]
     },
     "metadata": {
      "needs_background": "light"
     },
     "output_type": "display_data"
    }
   ],
   "source": [
    "coal_effects=io_new_safe.satellite.D_pba_reg[filter_1][['AU']]\n",
    "coal_effects.plot.bar()"
   ]
  },
  {
   "cell_type": "code",
   "execution_count": 47,
   "metadata": {},
   "outputs": [],
   "source": [
    "filter_2=io_new_safe.satellite.unit.index.str.contains('coal', regex=False)\n",
    "#io_new_safe.satellite.unit[filter_2]"
   ]
  },
  {
   "cell_type": "markdown",
   "metadata": {},
   "source": [
    "## Australia\n",
    "### Set final demand to \"0\" except for the coal sector\n",
    "To calculate for the new ﬁnal demand we have to remove everything from the system except for the coefﬁcients (A,L,S,M)\n",
    "\n",
    "**A** - direct requirement matrix 𝐴 is given by multiplication of transaction matrix 𝑍 with the diagonalised and inverted industry output 𝑥.  \n",
    "**L** - total requirement matrix (Leontief matrix).  \n",
    "**S** - factor of production coefﬁcients.  \n",
    "**M** - multipliers for 𝐹 are obtained by **M=SL**  \n",
    "\n",
    "If the factor of production represent required **environmental impacts**, these can also occur during the ﬁnal use phase. In that case **𝐺** describe the impacts associated with ﬁnal demand."
   ]
  },
  {
   "cell_type": "code",
   "execution_count": 62,
   "metadata": {},
   "outputs": [
    {
     "data": {
      "text/plain": [
       "<pymrio.core.mriosystem.IOSystem at 0x7f929ac32750>"
      ]
     },
     "execution_count": 62,
     "metadata": {},
     "output_type": "execute_result"
    }
   ],
   "source": [
    "io_new.reset_all_to_coefficients()"
   ]
  },
  {
   "cell_type": "code",
   "execution_count": 63,
   "metadata": {},
   "outputs": [],
   "source": [
    "io_new.Y = io_new_safe.Y * 0 \n",
    "#io_new.Y.head()"
   ]
  },
  {
   "cell_type": "code",
   "execution_count": 64,
   "metadata": {},
   "outputs": [],
   "source": [
    "io_new.Y.loc[('AU','Coking Coal'),('AU', 'Exports: Total (fob)')]=1000\n",
    "#io_new.Y.loc[('AU','Coking coal'),('AU', 'Exports: Total (fob)')]"
   ]
  },
  {
   "cell_type": "code",
   "execution_count": 65,
   "metadata": {},
   "outputs": [
    {
     "data": {
      "text/plain": [
       "<pymrio.core.mriosystem.IOSystem at 0x7f929ac32750>"
      ]
     },
     "execution_count": 65,
     "metadata": {},
     "output_type": "execute_result"
    }
   ],
   "source": [
    "io_new.calc_all()"
   ]
  },
  {
   "cell_type": "code",
   "execution_count": 66,
   "metadata": {},
   "outputs": [
    {
     "name": "stdout",
     "output_type": "stream",
     "text": [
      "<class 'pandas.core.frame.DataFrame'>\n"
     ]
    },
    {
     "data": {
      "text/html": [
       "<div>\n",
       "<style scoped>\n",
       "    .dataframe tbody tr th:only-of-type {\n",
       "        vertical-align: middle;\n",
       "    }\n",
       "\n",
       "    .dataframe tbody tr th {\n",
       "        vertical-align: top;\n",
       "    }\n",
       "\n",
       "    .dataframe thead th {\n",
       "        text-align: right;\n",
       "    }\n",
       "</style>\n",
       "<table border=\"1\" class=\"dataframe\">\n",
       "  <thead>\n",
       "    <tr style=\"text-align: right;\">\n",
       "      <th>region</th>\n",
       "      <th>AU</th>\n",
       "    </tr>\n",
       "  </thead>\n",
       "  <tbody>\n",
       "    <tr>\n",
       "      <th>CH4 - non combustion - Mining of bituminous coal - air</th>\n",
       "      <td>2.030578e+08</td>\n",
       "    </tr>\n",
       "    <tr>\n",
       "      <th>CH4 - non combustion - Mining of coking coal - air</th>\n",
       "      <td>2.097663e+08</td>\n",
       "    </tr>\n",
       "    <tr>\n",
       "      <th>CH4 - non combustion - Mining of lignite (brown coal) - air</th>\n",
       "      <td>3.638651e+06</td>\n",
       "    </tr>\n",
       "    <tr>\n",
       "      <th>CH4 - non combustion - Mining of sub-bituminous coal - air</th>\n",
       "      <td>5.968487e+07</td>\n",
       "    </tr>\n",
       "    <tr>\n",
       "      <th>PM10 - non combustion - Mining of bituminous coal - air</th>\n",
       "      <td>6.894188e+05</td>\n",
       "    </tr>\n",
       "    <tr>\n",
       "      <th>PM10 - non combustion - Mining of coking coal - air</th>\n",
       "      <td>7.121956e+05</td>\n",
       "    </tr>\n",
       "    <tr>\n",
       "      <th>PM10 - non combustion - Mining of lignite (brown coal) - air</th>\n",
       "      <td>4.104743e+05</td>\n",
       "    </tr>\n",
       "    <tr>\n",
       "      <th>PM10 - non combustion - Mining of sub-bituminous coal - air</th>\n",
       "      <td>2.026412e+05</td>\n",
       "    </tr>\n",
       "    <tr>\n",
       "      <th>PM2.5 - non combustion - Mining of bituminous coal - air</th>\n",
       "      <td>9.400824e+04</td>\n",
       "    </tr>\n",
       "    <tr>\n",
       "      <th>PM2.5 - non combustion - Mining of coking coal - air</th>\n",
       "      <td>9.711405e+04</td>\n",
       "    </tr>\n",
       "    <tr>\n",
       "      <th>PM2.5 - non combustion - Mining of lignite (brown coal) - air</th>\n",
       "      <td>5.065396e+04</td>\n",
       "    </tr>\n",
       "    <tr>\n",
       "      <th>PM2.5 - non combustion - Mining of sub-bituminous coal - air</th>\n",
       "      <td>2.763188e+04</td>\n",
       "    </tr>\n",
       "    <tr>\n",
       "      <th>TSP - non combustion - Mining of bituminous coal - air</th>\n",
       "      <td>1.274849e+06</td>\n",
       "    </tr>\n",
       "    <tr>\n",
       "      <th>TSP - non combustion - Mining of coking coal - air</th>\n",
       "      <td>1.316967e+06</td>\n",
       "    </tr>\n",
       "    <tr>\n",
       "      <th>TSP - non combustion - Mining of lignite (brown coal) - air</th>\n",
       "      <td>7.860684e+05</td>\n",
       "    </tr>\n",
       "    <tr>\n",
       "      <th>TSP - non combustion - Mining of sub-bituminous coal - air</th>\n",
       "      <td>3.747170e+05</td>\n",
       "    </tr>\n",
       "    <tr>\n",
       "      <th>Unused Domestic Extraction - Fossil Fuels - Coking coal</th>\n",
       "      <td>1.487583e+06</td>\n",
       "    </tr>\n",
       "    <tr>\n",
       "      <th>Unused Domestic Extraction - Fossil Fuels - Lignite/brown coal</th>\n",
       "      <td>1.537634e-01</td>\n",
       "    </tr>\n",
       "    <tr>\n",
       "      <th>Unused Domestic Extraction - Fossil Fuels - Other bituminous coal</th>\n",
       "      <td>9.509069e+01</td>\n",
       "    </tr>\n",
       "    <tr>\n",
       "      <th>Unused Domestic Extraction - Fossil Fuels - Sub-bituminous coal</th>\n",
       "      <td>8.755627e+00</td>\n",
       "    </tr>\n",
       "    <tr>\n",
       "      <th>Water Consumption Blue - Electricity - tower - Electricity by coal</th>\n",
       "      <td>2.531332e-04</td>\n",
       "    </tr>\n",
       "    <tr>\n",
       "      <th>Water Consumption Blue - Electricity - once-through - Electricity by coal</th>\n",
       "      <td>1.077482e-06</td>\n",
       "    </tr>\n",
       "    <tr>\n",
       "      <th>Water Withdrawal Blue - Electricity - tower - Electricity by coal</th>\n",
       "      <td>2.967876e-04</td>\n",
       "    </tr>\n",
       "    <tr>\n",
       "      <th>Water Withdrawal Blue - Electricity - once-through - Electricity by coal</th>\n",
       "      <td>1.302193e-04</td>\n",
       "    </tr>\n",
       "  </tbody>\n",
       "</table>\n",
       "</div>"
      ],
      "text/plain": [
       "region                                                        AU\n",
       "CH4 - non combustion - Mining of bituminous coa...  2.030578e+08\n",
       "CH4 - non combustion - Mining of coking coal - air  2.097663e+08\n",
       "CH4 - non combustion - Mining of lignite (brown...  3.638651e+06\n",
       "CH4 - non combustion - Mining of sub-bituminous...  5.968487e+07\n",
       "PM10 - non combustion - Mining of bituminous co...  6.894188e+05\n",
       "PM10 - non combustion - Mining of coking coal -...  7.121956e+05\n",
       "PM10 - non combustion - Mining of lignite (brow...  4.104743e+05\n",
       "PM10 - non combustion - Mining of sub-bituminou...  2.026412e+05\n",
       "PM2.5 - non combustion - Mining of bituminous c...  9.400824e+04\n",
       "PM2.5 - non combustion - Mining of coking coal ...  9.711405e+04\n",
       "PM2.5 - non combustion - Mining of lignite (bro...  5.065396e+04\n",
       "PM2.5 - non combustion - Mining of sub-bitumino...  2.763188e+04\n",
       "TSP - non combustion - Mining of bituminous coa...  1.274849e+06\n",
       "TSP - non combustion - Mining of coking coal - air  1.316967e+06\n",
       "TSP - non combustion - Mining of lignite (brown...  7.860684e+05\n",
       "TSP - non combustion - Mining of sub-bituminous...  3.747170e+05\n",
       "Unused Domestic Extraction - Fossil Fuels - Cok...  1.487583e+06\n",
       "Unused Domestic Extraction - Fossil Fuels - Lig...  1.537634e-01\n",
       "Unused Domestic Extraction - Fossil Fuels - Oth...  9.509069e+01\n",
       "Unused Domestic Extraction - Fossil Fuels - Sub...  8.755627e+00\n",
       "Water Consumption Blue - Electricity - tower - ...  2.531332e-04\n",
       "Water Consumption Blue - Electricity - once-thr...  1.077482e-06\n",
       "Water Withdrawal Blue - Electricity - tower - E...  2.967876e-04\n",
       "Water Withdrawal Blue - Electricity - once-thro...  1.302193e-04"
      ]
     },
     "execution_count": 66,
     "metadata": {},
     "output_type": "execute_result"
    }
   ],
   "source": [
    "print(type(io_new.satellite.D_pba_reg[filter_1]))\n",
    "io_new.satellite.D_pba_reg[filter_1][['AU']]"
   ]
  },
  {
   "cell_type": "code",
   "execution_count": 67,
   "metadata": {},
   "outputs": [
    {
     "data": {
      "text/plain": [
       "<AxesSubplot:>"
      ]
     },
     "execution_count": 67,
     "metadata": {},
     "output_type": "execute_result"
    },
    {
     "data": {
      "image/png": "[encoded data removed]",
      "text/plain": [
       "<Figure size 432x288 with 1 Axes>"
      ]
     },
     "metadata": {
      "needs_background": "light"
     },
     "output_type": "display_data"
    }
   ],
   "source": [
    "coal_effects=io_new.satellite.D_pba_reg[filter_1][['AU']]\n",
    "coal_effects.plot.bar()"
   ]
  }
 ],
 "metadata": {
  "kernelspec": {
   "display_name": "Python 3",
   "language": "python",
   "name": "python3"
  },
  "language_info": {
   "codemirror_mode": {
    "name": "ipython",
    "version": 3
   },
   "file_extension": ".py",
   "mimetype": "text/x-python",
   "name": "python",
   "nbconvert_exporter": "python",
   "pygments_lexer": "ipython3",
   "version": "3.7.7"
  }
 },
 "nbformat": 4,
 "nbformat_minor": 4
}
